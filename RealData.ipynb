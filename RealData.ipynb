{
 "cells": [
  {
   "cell_type": "markdown",
   "id": "dce38c2d",
   "metadata": {},
   "source": [
    "### Practice With Real Data"
   ]
  },
  {
   "cell_type": "code",
   "execution_count": 3,
   "id": "fe182b80",
   "metadata": {},
   "outputs": [],
   "source": [
    "import numpy as np\n",
    "import matplotlib.pyplot as plt"
   ]
  },
  {
   "cell_type": "code",
   "execution_count": 18,
   "id": "3b348ca4",
   "metadata": {},
   "outputs": [
    {
     "name": "stdout",
     "output_type": "stream",
     "text": [
      "==== Zomato sales analysis ====\n",
      "Shape of The data:  (5, 5)\n",
      "Sample data for first three restuarent\n",
      " [[150000 180000 220000 250000]\n",
      " [120000 140000 160000 190000]\n",
      " [200000 230000 260000 300000]\n",
      " [180000 210000 240000 270000]\n",
      " [160000 185000 205000 230000]]\n"
     ]
    }
   ],
   "source": [
    "# Data structure: [restaurant_id, 2021, 2022, 2023, 2024]\n",
    "sales_data = np.array([\n",
    "    [1, 150000, 180000, 220000, 250000],   # Paradise Biryani\n",
    "    [2, 120000, 140000, 160000, 190000],   # Beijing Bites\n",
    "    [3, 200000, 230000, 260000, 300000],   # Pizza Hub\n",
    "    [4, 180000, 210000, 240000, 270000],   # Burger Point\n",
    "    [5, 160000, 185000, 205000, 230000]    # Chai Point\n",
    "])\n",
    "\n",
    "print(\"==== Zomato sales analysis ====\")\n",
    "\n",
    "print(\"Shape of The data: \",sales_data.shape)\n",
    "print(\"Sample data for first three restuarent\\n\", sales_data[:, 1:])\n"
   ]
  },
  {
   "cell_type": "code",
   "execution_count": 48,
   "id": "941bd2bd",
   "metadata": {},
   "outputs": [
    {
     "name": "stdout",
     "output_type": "stream",
     "text": [
      "[     15  810000  945000 1085000 1240000]\n",
      "Yearly Total: \n",
      " [ 810000  945000 1085000 1240000]\n",
      "Min Sales Per Restaurents:  [150000 120000 200000 180000 160000]\n",
      "Max Sales By each Year:\n",
      " [200000 230000 260000 300000]\n",
      "Average Sales By Each Year: \n",
      " [162000. 189000. 217000. 248000.]\n",
      "Average Sales per restaurants: \n",
      " [200000. 152500. 247500. 225000. 195000.]\n"
     ]
    }
   ],
   "source": [
    "# Total sales per year\n",
    "# NOTE: For cols we take axis = 0, and for rows we take axis = 1\n",
    "print(np.sum(sales_data, axis=0))\n",
    "print(\"Yearly Total: \\n\", np.sum(sales_data[:, 1:], axis= 0))\n",
    "\n",
    "#Minimum Sales per restaurent\n",
    "min_sales = np.min(sales_data[:, 1:], axis=1)\n",
    "print(\"Min Sales Per Restaurents: \", min_sales)\n",
    "\n",
    "# Maximum Sales per year\n",
    "max_sales = np.max(sales_data[:, 1:], axis= 0)\n",
    "print(\"Max Sales By each Year:\\n\", max_sales)\n",
    "\n",
    "# Average Sales per year \n",
    "average_sales_year = np.mean(sales_data[:, 1:], axis=0)\n",
    "print(\"Average Sales By Each Year: \\n\", average_sales_year)\n",
    "\n",
    "# Average sales per restaurant\n",
    "average_sales_restaurants = np.mean(sales_data[:, 1:], axis=1)\n",
    "print(\"Average Sales per restaurants: \\n\", average_sales_restaurants)"
   ]
  }
 ],
 "metadata": {
  "kernelspec": {
   "display_name": ".venv",
   "language": "python",
   "name": "python3"
  },
  "language_info": {
   "codemirror_mode": {
    "name": "ipython",
    "version": 3
   },
   "file_extension": ".py",
   "mimetype": "text/x-python",
   "name": "python",
   "nbconvert_exporter": "python",
   "pygments_lexer": "ipython3",
   "version": "3.13.1"
  }
 },
 "nbformat": 4,
 "nbformat_minor": 5
}
