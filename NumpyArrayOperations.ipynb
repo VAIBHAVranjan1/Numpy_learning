{
 "cells": [
  {
   "cell_type": "markdown",
   "id": "8bd16971",
   "metadata": {},
   "source": [
    "## Numpy Array Operations"
   ]
  },
  {
   "cell_type": "code",
   "execution_count": 2,
   "id": "6d9a281a",
   "metadata": {},
   "outputs": [],
   "source": [
    "import numpy as np"
   ]
  },
  {
   "cell_type": "code",
   "execution_count": null,
   "id": "62561278",
   "metadata": {},
   "outputs": [
    {
     "name": "stdout",
     "output_type": "stream",
     "text": [
      "[ 1  2  3  4  5  6  7  8  9 10]\n",
      "Slicing (till n - 1 index):  [ 1  2  3  4  5  6  7  8  9 10]\n",
      "Slicing (Range):  [ 3  4  5  6  7  8  9 10]\n",
      "Negative Slicing:  [10]\n",
      "Starting From 0 till last -1:  [1 2 3 4 5 6 7 8 9]\n",
      "Another Negative Slicing:  [7 8 9]\n"
     ]
    }
   ],
   "source": [
    "arr = np.arange(1, 11)\n",
    "print(arr)\n",
    "\n",
    "print(\"Slicing (till n - 1 index): \", arr[:100]) \n",
    "#Note that if n >= len(arr) then it will take till n - 1 index\n",
    "\n",
    "print(\"Slicing (Range): \", arr[2:10])\n",
    "# [startIndex: EndIndex + 1]\n",
    "\n",
    "print(\"Negative Slicing: \", arr[-1:])\n",
    "# [-n: ] negative number start indexing from -1 and from last index\n",
    "\n",
    "print(\"Starting From 0 till last -1: \", arr[:-1])\n",
    "# [-n: ] negative number start indexing from -1 and from last index\n",
    "\n",
    "print(\"Another Negative Slicing: \", arr[-4:-1])\n",
    "# [startIndex: tillIndex - 1] -1 means last index then it will go till lastIndex - 1\n",
    "\n",
    "\n",
    "#NOTE:The starting index will be in the left of ':' and if not mentioned will be 0 by default\n",
    "# NOTE: Similar case for right number \":\" but till only leftNumber - 1"
   ]
  },
  {
   "cell_type": "code",
   "execution_count": 87,
   "id": "03e128b9",
   "metadata": {},
   "outputs": [
    {
     "name": "stdout",
     "output_type": "stream",
     "text": [
      "Specific Element:  6\n",
      "Entire Row:  [4 5 6]\n",
      "Entire Col:  [3 6 9]\n"
     ]
    }
   ],
   "source": [
    "arr_2d = np.array([\n",
    "    [1,2,3],\n",
    "    [4,5,6],\n",
    "    [7,8,9]\n",
    "])\n",
    "\n",
    "print(\"Specific Element: \", arr_2d[1, 2])\n",
    "# arr[a, b] means bth element of ath element present in arr_2d\n",
    "\n",
    "print(\"Entire Row: \", arr_2d[1])\n",
    "print(\"Entire Col: \", arr_2d[:, 2])"
   ]
  },
  {
   "cell_type": "markdown",
   "id": "5b45ea4a",
   "metadata": {},
   "source": [
    "### Sorting"
   ]
  },
  {
   "cell_type": "code",
   "execution_count": 106,
   "id": "2a76d6ab",
   "metadata": {},
   "outputs": [
    {
     "name": "stdout",
     "output_type": "stream",
     "text": [
      "Sorted Array:  [ 1  1  2  2  4  8 10 23 99]\n",
      "sorted 2d array\n",
      " [[1 5]\n",
      " [2 5]\n",
      " [5 6]]\n"
     ]
    }
   ],
   "source": [
    "unsorted = np.array([1,2,4,1,2,8,10,99,23])\n",
    "\n",
    "print(\"Sorted Array: \", np.sort(unsorted))\n",
    "\n",
    "unsorted_2d_array = np.array([\n",
    "    [1,5],\n",
    "    [5, 6],\n",
    "    [2, 5]\n",
    "])\n",
    "\n",
    "print(\"sorted 2d array\\n\", np.sort(unsorted_2d_array, axis=0))"
   ]
  },
  {
   "cell_type": "markdown",
   "id": "ea1b2b6a",
   "metadata": {},
   "source": [
    "### Filter"
   ]
  },
  {
   "cell_type": "code",
   "execution_count": 3,
   "id": "44cf5f9f",
   "metadata": {},
   "outputs": [
    {
     "name": "stdout",
     "output_type": "stream",
     "text": [
      "Even number:  [ 2  4  6  8 10]\n",
      "Odd number:  [1 3 5 7 9]\n"
     ]
    }
   ],
   "source": [
    "number = np.arange(1, 11)\n",
    "\n",
    "even_number = number[number % 2 == 0]\n",
    "odd_number = number[number % 2 != 0]\n",
    "\n",
    "print(\"Even number: \", even_number)\n",
    "print(\"Odd number: \", odd_number)"
   ]
  },
  {
   "cell_type": "markdown",
   "id": "3e26bc28",
   "metadata": {},
   "source": [
    "### Filter with mask"
   ]
  },
  {
   "cell_type": "code",
   "execution_count": null,
   "id": "954b5742",
   "metadata": {},
   "outputs": [
    {
     "name": "stdout",
     "output_type": "stream",
     "text": [
      "Numbers greater than 5:  [ 6  7  8  9 10]\n"
     ]
    }
   ],
   "source": [
    "# Same As Above, the condition that will be applied is the \"mask\"\n",
    "mask = number > 5\n",
    "print(\"Numbers greater than 5: \", number[mask])"
   ]
  },
  {
   "cell_type": "markdown",
   "id": "727f20b1",
   "metadata": {},
   "source": [
    "### Fancy Indexing Vs np.where()"
   ]
  },
  {
   "cell_type": "code",
   "execution_count": null,
   "id": "7eb4c5eb",
   "metadata": {},
   "outputs": [
    {
     "name": "stdout",
     "output_type": "stream",
     "text": [
      "[2 3 4]\n",
      "NP Where:  [ 7  8  9 10]\n",
      "[[ 1  2  3  4  5 12 14 16 18 20]]\n"
     ]
    }
   ],
   "source": [
    "indices = [1, 2, 3]\n",
    "# index wise\n",
    "print(number[indices])\n",
    "\n",
    "where_result = np.where(number >= 7)\n",
    "print(\"NP Where: \", number[where_result])"
   ]
  },
  {
   "cell_type": "code",
   "execution_count": 30,
   "id": "94a5e46c",
   "metadata": {},
   "outputs": [
    {
     "name": "stdout",
     "output_type": "stream",
     "text": [
      "['false' 'false' 'false' 'false' 'false' 'true' 'true' 'true' 'true'\n",
      " 'true']\n"
     ]
    }
   ],
   "source": [
    "condition_array = np.where(number >= 6, \"true\", \"false\")\n",
    "# np.where(condition, x, y)\n",
    "# when condition is true then x is applied and y is applied when false\n",
    "print(condition_array)"
   ]
  },
  {
   "cell_type": "markdown",
   "id": "bab9adcf",
   "metadata": {},
   "source": [
    "### Adding and Removing The Data"
   ]
  },
  {
   "cell_type": "code",
   "execution_count": 44,
   "id": "18c617f6",
   "metadata": {},
   "outputs": [
    {
     "name": "stdout",
     "output_type": "stream",
     "text": [
      "Combined Array:  [1 2 3 5 4 5 6 7]\n"
     ]
    }
   ],
   "source": [
    "arr1 = np.array([1, 2, 3, 5])\n",
    "arr2 = np.array([4, 5, 6, 7])\n",
    "\n",
    "# combined_array = arr1 + arr2\n",
    "combined_array = np.concatenate((arr1, arr2))\n",
    "# using arr1 + arr2 will add the respective elements\n",
    "# Also NOTE:- arr1 and arr2 should have same length\n",
    "print(\"Combined Array: \", combined_array)"
   ]
  },
  {
   "cell_type": "markdown",
   "id": "0d1554ba",
   "metadata": {},
   "source": [
    "### Compatibility"
   ]
  },
  {
   "cell_type": "code",
   "execution_count": 48,
   "id": "3b37c23a",
   "metadata": {},
   "outputs": [
    {
     "name": "stdout",
     "output_type": "stream",
     "text": [
      "Array Compatibility:  False\n"
     ]
    }
   ],
   "source": [
    "arr_a = np.array([1,2,3])\n",
    "arr_b = np.array([5,6,1,8])\n",
    "arr_c = np.array([9,0,4])\n",
    "\n",
    "print(\"Array Compatibility: \", arr_a.shape == arr_b.shape)"
   ]
  },
  {
   "cell_type": "markdown",
   "id": "b5528548",
   "metadata": {},
   "source": [
    "### Adding Rows and Cols"
   ]
  },
  {
   "cell_type": "code",
   "execution_count": 123,
   "id": "05d51a94",
   "metadata": {},
   "outputs": [
    {
     "name": "stdout",
     "output_type": "stream",
     "text": [
      "Dimesions of New Row:  2\n",
      "Dimesions of Original:  2\n",
      "Original Matrix: \n",
      " [[1 3]\n",
      " [3 6]]\n",
      "With New Row Matrix: \n",
      " [[4 7]\n",
      " [1 3]\n",
      " [3 6]]\n",
      "Dimesions of new col 2\n",
      "Dimesions of With New Row 2\n",
      "With New Col Matrix: \n",
      " [[4 7 4 5]\n",
      " [1 3 9 1]\n",
      " [3 6 9 3]]\n"
     ]
    }
   ],
   "source": [
    "original = np.array([\n",
    "    [1, 3],\n",
    "    [3, 6]\n",
    "])\n",
    "\n",
    "new_row = np.array([[4, 7]])\n",
    "\n",
    "print(\"Dimesions of New Row: \", np.ndim(new_row))\n",
    "print(\"Dimesions of Original: \", np.ndim(original))\n",
    "\n",
    "with_new_row = np.vstack((new_row, original))\n",
    "\n",
    "# depending on positon we can add new_row either on top\n",
    "# or on the bottom of the row\n",
    "\n",
    "# vstack adds in row\n",
    "print(\"Original Matrix: \\n\",original)\n",
    "print(\"With New Row Matrix: \\n\",with_new_row)\n",
    "\n",
    "# adding new column\n",
    "# hstack is used for column\n",
    "new_col = np.array([[4, 5], [9, 1], [9, 3]])\n",
    "print(\"Dimesions of new col\" , np.ndim(new_col))\n",
    "print(\"Dimesions of With New Row\" , np.ndim(with_new_row))\n",
    "\n",
    "with_new_col = np.hstack((with_new_row, new_col))\n",
    "print(\"With New Col Matrix: \\n\", with_new_col)\n",
    "\n",
    "#NOTE:\n",
    "# Just Remember that Vstack mean fill the stack vertically (Either top-down or bottom-up)\n",
    "# Similary hstack means filling the stack horizontally(Either left-right or right-left)"
   ]
  },
  {
   "cell_type": "markdown",
   "id": "1a9be951",
   "metadata": {},
   "source": [
    "### Deletion"
   ]
  },
  {
   "cell_type": "code",
   "execution_count": null,
   "id": "7719a4f1",
   "metadata": {},
   "outputs": [
    {
     "name": "stdout",
     "output_type": "stream",
     "text": [
      "[1 3 5 6]\n"
     ]
    }
   ],
   "source": [
    "arr = np.array([1,3,5,6])\n",
    "deleted = np.delete(arr, 2)\n",
    "# returns np array after deletion\n",
    "\n",
    "print(arr)"
   ]
  }
 ],
 "metadata": {
  "kernelspec": {
   "display_name": ".venv",
   "language": "python",
   "name": "python3"
  },
  "language_info": {
   "codemirror_mode": {
    "name": "ipython",
    "version": 3
   },
   "file_extension": ".py",
   "mimetype": "text/x-python",
   "name": "python",
   "nbconvert_exporter": "python",
   "pygments_lexer": "ipython3",
   "version": "3.13.1"
  }
 },
 "nbformat": 4,
 "nbformat_minor": 5
}
