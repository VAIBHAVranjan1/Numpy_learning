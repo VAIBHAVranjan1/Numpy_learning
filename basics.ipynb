{
 "cells": [
  {
   "cell_type": "markdown",
   "id": "36409858",
   "metadata": {},
   "source": [
    "## Numpy Array and basics"
   ]
  },
  {
   "cell_type": "code",
   "execution_count": 1,
   "id": "a648b09a",
   "metadata": {},
   "outputs": [],
   "source": [
    "import numpy as np"
   ]
  },
  {
   "cell_type": "markdown",
   "id": "d84bc834",
   "metadata": {},
   "source": [
    "### creating array from list\n",
    "\n"
   ]
  },
  {
   "cell_type": "code",
   "execution_count": null,
   "id": "75fbf5dd",
   "metadata": {},
   "outputs": [
    {
     "name": "stdout",
     "output_type": "stream",
     "text": [
      "[1 2 3 4 5]\n",
      "[[ 1  2  3  4  5]\n",
      " [ 6  7  8  9 10]]\n"
     ]
    }
   ],
   "source": [
    "arr_1d = np.array([1,2,3,4,5])\n",
    "print(arr_1d)\n",
    "\n",
    "arr_2d = np.array([[1,2,3,4,5], [6,7,8,9, 10]])\n",
    "# Note that the size of both list should be in 2d array\n",
    "print(arr_2d)"
   ]
  },
  {
   "cell_type": "markdown",
   "id": "5791cdb6",
   "metadata": {},
   "source": [
    "### List vs Numpy list\n"
   ]
  },
  {
   "cell_type": "code",
   "execution_count": null,
   "id": "99c2c499",
   "metadata": {},
   "outputs": [
    {
     "name": "stdout",
     "output_type": "stream",
     "text": [
      "numpy list multiplication [2 4 6]\n",
      "Python list multiplication [1, 2, 3, 1, 2, 3]\n"
     ]
    }
   ],
   "source": [
    "py_list = [1,2,3]\n",
    "np_arr = np.array(py_list)\n",
    "\n",
    "# if we multiply numpy list then each item will be multiplied \n",
    "# if we multiply normal python list then the list will 2 * initial size\n",
    "print('numpy list multiplication', np_arr*2)\n",
    "print('Python list multiplication', py_list*2)"
   ]
  },
  {
   "cell_type": "markdown",
   "id": "6958b63e",
   "metadata": {},
   "source": [
    "### Checking calculation Speed \n"
   ]
  },
  {
   "cell_type": "code",
   "execution_count": null,
   "id": "a60f2bca",
   "metadata": {},
   "outputs": [],
   "source": [
    "import time\n",
    "\n",
    "start = time.time()\n",
    "python_list = [i*2 for i in range(1000000)]\n",
    "print(\"Python List operation time: \", time.time() - start)\n",
    "\n",
    "start = time.time()\n",
    "numpy_list = np.arange(1000000) * 2\n",
    "print(\"Python List operation time: \", time.time() - start)\n"
   ]
  },
  {
   "cell_type": "markdown",
   "id": "dde3aa09",
   "metadata": {},
   "source": [
    "\n",
    "### Creating arrays from strach"
   ]
  },
  {
   "cell_type": "code",
   "execution_count": null,
   "id": "b6aeddbe",
   "metadata": {},
   "outputs": [],
   "source": [
    "zeroes = np.zeros((3, 4))\n",
    "print(\"Zeroes matrix: \\n\", zeroes)\n",
    "# creating arrays of zeroes or ones with r X c is passes as tuple inside \"()\"\n",
    "ones = np.ones((3, 4))\n",
    "print(\"Ones matrix: \\n\", ones)\n",
    "\n",
    "# or similary we can do that for any number just pass tuple as dimension of \n",
    "# matrix and the number we want to fill it with\n",
    "\n",
    "any_desired_number_full = np.full((5, 5), 5)\n",
    "print(\"Filling any desired numbered matrix: \\n\", any_desired_number_full)\n",
    "\n",
    "# we can also have random matrix\n",
    "# np.random is class in itself it have many methods\n",
    "random_matrices = np.random.random((2, 2))\n",
    "print(\"Random Matrix:\\n\", random_matrices)\n",
    "\n",
    "# sequence\n",
    "sequence = np.arange(0, 10, 2)\n",
    "print(\"Sequence:\\n\", sequence)"
   ]
  },
  {
   "cell_type": "markdown",
   "id": "567cb7d8",
   "metadata": {},
   "source": [
    "### Vectors, Matrices, and Tensor\n"
   ]
  },
  {
   "cell_type": "code",
   "execution_count": null,
   "id": "636d996c",
   "metadata": {},
   "outputs": [],
   "source": [
    "vector = np.array([1,2,3,4])\n",
    "print(\"Vector:\\n\", vector)\n",
    "\n",
    "matrix = np.array([\n",
    "    [1,2,3,4],\n",
    "    [5,6,7,8],\n",
    "])\n",
    "\n",
    "print(\"Matrix:\\n\", matrix)\n",
    "\n",
    "tensor = np.array([\n",
    "    [[1,2], [3,4]],\n",
    "    [[5,6], [7, 8]]\n",
    "])\n",
    "print(\"Tensor:\\n\", tensor)\n",
    "print(\"Dimension:\\n\",tensor.ndim)"
   ]
  },
  {
   "cell_type": "markdown",
   "id": "6cd48b27",
   "metadata": {},
   "source": [
    "### Array Properites"
   ]
  },
  {
   "cell_type": "code",
   "execution_count": null,
   "id": "2ab1fa94",
   "metadata": {},
   "outputs": [],
   "source": [
    "arr = np.array([\n",
    "    [1,2,3],\n",
    "    [4,5,6],\n",
    "])\n",
    "\n",
    "print(\"Shape: \",arr.shape)\n",
    "print(\"Dimension\", arr.ndim)\n",
    "print(\"Size\", arr.size)\n",
    "print(\"Data type\", arr.dtype)\n"
   ]
  },
  {
   "cell_type": "markdown",
   "id": "9a59bdda",
   "metadata": {},
   "source": [
    "### Array Reshaping"
   ]
  },
  {
   "cell_type": "code",
   "execution_count": null,
   "id": "9439ddc7",
   "metadata": {},
   "outputs": [],
   "source": [
    "arr = np.arange(12)\n",
    "print(\"Array:\\n\", arr)\n",
    "\n",
    "# convert list into matrix\n",
    "reshaped = arr.reshape((4, 3))\n",
    "print(\"Reshaped:\\n\",reshaped)\n",
    "\n",
    "# flattens the matrix -> back to array\n",
    "flattend = reshaped.flatten()\n",
    "print(\"Flattened:\\n\",flattend)\n",
    "\n",
    "# Returns view instead of copy (Returns original array)\n",
    "raveled = reshaped.ravel()\n",
    "print(\"Raveled:\\n\",raveled)\n",
    "\n",
    "# Transpose Of matrix\n",
    "transpose = reshaped.T;\n",
    "print(\"\\nTransposed Matrix:\\n\",transpose)"
   ]
  }
 ],
 "metadata": {
  "kernelspec": {
   "display_name": ".venv",
   "language": "python",
   "name": "python3"
  },
  "language_info": {
   "codemirror_mode": {
    "name": "ipython",
    "version": 3
   },
   "file_extension": ".py",
   "mimetype": "text/x-python",
   "name": "python",
   "nbconvert_exporter": "python",
   "pygments_lexer": "ipython3",
   "version": "3.13.1"
  }
 },
 "nbformat": 4,
 "nbformat_minor": 5
}
